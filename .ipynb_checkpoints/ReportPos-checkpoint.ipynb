{
 "cells": [
  {
   "cell_type": "code",
   "execution_count": null,
   "metadata": {},
   "outputs": [],
   "source": [
    "from mcpi.minecraft import Minecraft\n",
    "import mcpi.block as block\n",
    "from luma.core.interface.serial import i2c\n",
    "from luma.core.render import canvas\n",
    "from luma.oled.device import ssd1306, ssd1325, ssd1331, sh1106\n",
    "import time\n",
    "import math\n",
    "\n",
    "serial = i2c(port=1, address=0x3C)\n",
    "device = ssd1306(serial, rotate=0)\n",
    "mc = Minecraft.create()"
   ]
  },
  {
   "cell_type": "code",
   "execution_count": null,
   "metadata": {},
   "outputs": [],
   "source": [
    "i = 0\n",
    "\n",
    "while True:\n",
    "    pos = mc.player.getTilePos()\n",
    "    x = (pos.x + 128) % 64\n",
    "    z = (pos.x + 128) % 64\n",
    "    y = pos.y + 128 / 10\n",
    "    with canvas(device) as draw:\n",
    "        draw.rectangle(device.bounding_box, outline=\"white\", fill=\"black\")\n",
    "        draw.text((0, 0), f'({pos.x}, {pos.y}, {pos.z})', fill=\"white\")\n",
    "        draw.arc( [(x, z), (x+y, z+y)], 0, 360, fill='white', width=1  )\n",
    "        #time.sleep(1)"
   ]
  },
  {
   "cell_type": "code",
   "execution_count": null,
   "metadata": {},
   "outputs": [],
   "source": [
    "block.SLAB"
   ]
  },
  {
   "cell_type": "code",
   "execution_count": null,
   "metadata": {},
   "outputs": [],
   "source": []
  }
 ],
 "metadata": {
  "kernelspec": {
   "display_name": "Python 3",
   "language": "python",
   "name": "python3"
  },
  "language_info": {
   "codemirror_mode": {
    "name": "ipython",
    "version": 3
   },
   "file_extension": ".py",
   "mimetype": "text/x-python",
   "name": "python",
   "nbconvert_exporter": "python",
   "pygments_lexer": "ipython3",
   "version": "3.7.3"
  }
 },
 "nbformat": 4,
 "nbformat_minor": 4
}
