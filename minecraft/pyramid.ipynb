{
 "cells": [
  {
   "cell_type": "code",
   "execution_count": 1,
   "metadata": {},
   "outputs": [],
   "source": [
    "from mcpi.minecraft import Minecraft\n",
    "import mcpi.block as block\n",
    "from random import randint\n",
    "from time import sleep\n",
    "\n",
    "mc = Minecraft.create()"
   ]
  },
  {
   "cell_type": "code",
   "execution_count": 2,
   "metadata": {},
   "outputs": [],
   "source": [
    "# 0 = east\n",
    "# 1 = west\n",
    "# 2 = south\n",
    "# 3 = north\n",
    "\n",
    "def buildStrip(startPos, length, direction, blockType=53):\n",
    "    for i in range(length):\n",
    "        if direction==0:\n",
    "             mc.setBlock(startPos.x, startPos.y, startPos.z+i, blockType, 0)\n",
    "        elif direction==3:\n",
    "            mc.setBlock(startPos.x+i, startPos.y, startPos.z+length,  blockType, 3)\n",
    "        elif direction==1:\n",
    "            mc.setBlock(startPos.x+length, startPos.y, startPos.z+length-i,  blockType, 1)\n",
    "        elif direction==2:\n",
    "            mc.setBlock(startPos.x+length-i, startPos.y, startPos.z,  blockType, 2)\n",
    "            \n",
    "\n",
    "def buildLevel(pos, size):\n",
    "    length = size - 1\n",
    "    buildStrip(pos, length, 0)\n",
    "    buildStrip(pos, length, 3)\n",
    "    buildStrip(pos, length, 1)\n",
    "    buildStrip(pos, length, 2)\n",
    "    if length > 1:\n",
    "        mc.setBlocks(pos.x+1, pos.y, pos.z+1, pos.x+length-1, pos.y, pos.z+length-1, block.STONE)\n",
    "    \n",
    "def buildPyramid(pos, size):\n",
    "    while size > 1:\n",
    "        buildLevel(pos, size)\n",
    "        pos.x += 1\n",
    "        pos.y += 1\n",
    "        pos.z += 1\n",
    "        size -= 2\n",
    "    if size == 1:\n",
    "         mc.setBlock(pos.x, pos.y, pos.z, 44, 2)\n",
    "    \n",
    "pos=mc.player.getTilePos()\n",
    "buildPyramid(pos, 11)"
   ]
  },
  {
   "cell_type": "code",
   "execution_count": 45,
   "metadata": {},
   "outputs": [
    {
     "data": {
      "text/plain": [
       "[0, 1, 2, 3]"
      ]
     },
     "execution_count": 45,
     "metadata": {},
     "output_type": "execute_result"
    }
   ],
   "source": [
    "list(range(4))"
   ]
  },
  {
   "cell_type": "code",
   "execution_count": 27,
   "metadata": {},
   "outputs": [],
   "source": [
    "pos = mc.player.getTilePos()"
   ]
  },
  {
   "cell_type": "code",
   "execution_count": 32,
   "metadata": {},
   "outputs": [],
   "source": [
    "mc.setBlock(pos.x, pos.y, pos.z, 53, 0)"
   ]
  },
  {
   "cell_type": "code",
   "execution_count": 36,
   "metadata": {},
   "outputs": [
    {
     "data": {
      "text/plain": [
       "Block(53, 0)"
      ]
     },
     "execution_count": 36,
     "metadata": {},
     "output_type": "execute_result"
    }
   ],
   "source": [
    "block.STAIRS_WOOD"
   ]
  },
  {
   "cell_type": "code",
   "execution_count": 19,
   "metadata": {},
   "outputs": [
    {
     "ename": "AttributeError",
     "evalue": "module 'mcpi.block' has no attribute 'WOOD_SLAB'",
     "output_type": "error",
     "traceback": [
      "\u001b[0;31m---------------------------------------------------------------------------\u001b[0m",
      "\u001b[0;31mAttributeError\u001b[0m                            Traceback (most recent call last)",
      "\u001b[0;32m<ipython-input-19-d5022ae88b92>\u001b[0m in \u001b[0;36m<module>\u001b[0;34m()\u001b[0m\n\u001b[0;32m----> 1\u001b[0;31m \u001b[0mblock\u001b[0m\u001b[0;34m.\u001b[0m\u001b[0mWOOD_SLAB\u001b[0m\u001b[0;34m\u001b[0m\u001b[0;34m\u001b[0m\u001b[0m\n\u001b[0m",
      "\u001b[0;31mAttributeError\u001b[0m: module 'mcpi.block' has no attribute 'WOOD_SLAB'"
     ]
    }
   ],
   "source": [
    "block.WOOD_SLAB"
   ]
  },
  {
   "cell_type": "code",
   "execution_count": 3,
   "metadata": {},
   "outputs": [],
   "source": [
    "pos=mc.player.getTilePos()"
   ]
  },
  {
   "cell_type": "code",
   "execution_count": 4,
   "metadata": {},
   "outputs": [
    {
     "data": {
      "text/plain": [
       "Vec3(-17,5,-58)"
      ]
     },
     "execution_count": 4,
     "metadata": {},
     "output_type": "execute_result"
    }
   ],
   "source": [
    "pos"
   ]
  },
  {
   "cell_type": "code",
   "execution_count": 5,
   "metadata": {},
   "outputs": [
    {
     "data": {
      "text/plain": [
       "44"
      ]
     },
     "execution_count": 5,
     "metadata": {},
     "output_type": "execute_result"
    }
   ],
   "source": [
    "mc.getBlock(-17, 5, -58)"
   ]
  },
  {
   "cell_type": "code",
   "execution_count": 7,
   "metadata": {},
   "outputs": [],
   "source": [
    "mc.setBlock(-17, 5, -58, 44, 2)"
   ]
  },
  {
   "cell_type": "code",
   "execution_count": 2,
   "metadata": {},
   "outputs": [
    {
     "name": "stdout",
     "output_type": "stream",
     "text": [
      "Vec3(46,8,33)\n",
      "5\n",
      "Vec3(46,8,33)\n",
      "3\n"
     ]
    }
   ],
   "source": [
    "# 0 = east\n",
    "# 1 = west\n",
    "# 2 = south\n",
    "# 3 = north\n",
    "\n",
    "def buildStrip(startPos, length, direction, height, blockType=53):\n",
    "    startx = startPos.x - length/2 + 1\n",
    "    startz = startPos.z - length/2 + 1\n",
    "    for i in range(length):\n",
    "        if direction==0:\n",
    "            x = startx\n",
    "            z = startz + i\n",
    "        elif direction==3:\n",
    "            x = startx + i\n",
    "            z = startz + length\n",
    "        elif direction==1:\n",
    "            x = startx + length\n",
    "            z = startz + length - i\n",
    "        elif direction==2:\n",
    "            x = startx + length - i\n",
    "            z = startz\n",
    "        \n",
    "        mc.setBlock( x, startPos.y+height, z, blockType, direction)\n",
    "\n",
    "def buildLevel(pos, size, height):\n",
    "    print(pos)\n",
    "    print(size)\n",
    "    length = size - 1\n",
    "    buildStrip(pos, length, 0, height)\n",
    "    buildStrip(pos, length, 3, height)\n",
    "    buildStrip(pos, length, 1, height)\n",
    "    buildStrip(pos, length, 2, height)\n",
    "    if length > 1:\n",
    "        x = pos.x - length/2 + 1\n",
    "        z = pos.z - length/2 + 1\n",
    "        mc.setBlocks(x+1, pos.y, z+1, x+length-1, pos.y+height, z+length-1, block.STONE)\n",
    "    \n",
    "def buildPyramid(pos, size):\n",
    "    length = size\n",
    "    while length > 1:\n",
    "        buildLevel(pos, length, length)\n",
    "        length -= 2\n",
    "    if length == 1:\n",
    "        mc.setBlock(pos.x, pos.y, pos.z, 44, 2)\n",
    "    mc.player.setTilePos(pos.x, pos.y, pos.z)\n",
    "    \n",
    "pos=mc.player.getTilePos()\n",
    "buildPyramid(pos, 5)"
   ]
  },
  {
   "cell_type": "code",
   "execution_count": 3,
   "metadata": {},
   "outputs": [],
   "source": [
    "mc.player.setTilePos(46, 10, 33)"
   ]
  },
  {
   "cell_type": "code",
   "execution_count": 10,
   "metadata": {},
   "outputs": [],
   "source": [
    "pos = mc.player.getTilePos()\n",
    "\n",
    "x, y, z = pos.x, pos.y, pos.z\n",
    "\n",
    "mc.setBlocks(x-3, y+0, z-3, x+3, y+0, z+3, block.STONE)\n",
    "mc.setBlocks(x-2, y+1, z-2, x+2, y+1, z+2, block.STONE)\n",
    "mc.setBlocks(x-1, y+2, z-1, x+1, y+2, z+1, block.STONE)\n",
    "mc.setBlocks(x-0, y+3, z-0, x+0, y+3, z+0, block.STONE)\n",
    "\n",
    "mc.player.setTilePos(x, y+4, z)"
   ]
  },
  {
   "cell_type": "code",
   "execution_count": 35,
   "metadata": {},
   "outputs": [],
   "source": [
    "pos = mc.player.getTilePos()\n",
    "size = 5\n",
    "\n",
    "x, y, z = pos.x, pos.y, pos.z\n",
    "for i in range(size):\n",
    "    adj = size - i - 1\n",
    "    #core\n",
    "    mc.setBlocks(x-adj, y+i, z-adj, x+adj, y+i, z+adj, block.STONE)\n",
    "    #edge\n",
    "    mc.setBlocks(x-adj, y+i, z-adj, x+adj, y+i, z-adj, 53, 2)\n",
    "    mc.setBlocks(x+adj, y+i, z-adj, x+adj, y+i, z+adj, 53, 1)\n",
    "    mc.setBlocks(x+adj, y+i, z+adj, x-adj, y+i, z+adj, 53, 3)\n",
    "    mc.setBlocks(x-adj, y+i, z+adj, x-adj, y+i, z-adj, 53, 0)\n",
    "    \n",
    "mc.setBlock(x, y+size-1, z, 44, 2)\n",
    "\n",
    "mc.player.setTilePos(x, y+size+1, z)"
   ]
  },
  {
   "cell_type": "code",
   "execution_count": null,
   "metadata": {},
   "outputs": [],
   "source": []
  },
  {
   "cell_type": "code",
   "execution_count": null,
   "metadata": {},
   "outputs": [],
   "source": []
  }
 ],
 "metadata": {
  "kernelspec": {
   "display_name": "Python 3",
   "language": "python",
   "name": "python3"
  },
  "language_info": {
   "codemirror_mode": {
    "name": "ipython",
    "version": 3
   },
   "file_extension": ".py",
   "mimetype": "text/x-python",
   "name": "python",
   "nbconvert_exporter": "python",
   "pygments_lexer": "ipython3",
   "version": "3.7.3"
  }
 },
 "nbformat": 4,
 "nbformat_minor": 4
}
