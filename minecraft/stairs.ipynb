{
 "cells": [
  {
   "cell_type": "code",
   "execution_count": 2,
   "metadata": {},
   "outputs": [],
   "source": [
    "from mcpi.minecraft import Minecraft\n",
    "import mcpi.block as block\n",
    "from random import randint\n",
    "from time import sleep\n",
    "\n",
    "mc = Minecraft.create()"
   ]
  },
  {
   "cell_type": "code",
   "execution_count": 11,
   "metadata": {},
   "outputs": [],
   "source": [
    "def placeBlock():\n",
    "    pos = mc.player.getTilePos()\n",
    "    x = pos.x\n",
    "    y = pos.y\n",
    "    z = pos.z\n",
    "\n",
    "    mc.setBlock(x + 1, y, z, block.STONE)"
   ]
  },
  {
   "cell_type": "code",
   "execution_count": 13,
   "metadata": {},
   "outputs": [],
   "source": [
    "placeBlock()"
   ]
  },
  {
   "cell_type": "code",
   "execution_count": 7,
   "metadata": {},
   "outputs": [
    {
     "data": {
      "text/plain": [
       "Vec3(-7,8,-5)"
      ]
     },
     "execution_count": 7,
     "metadata": {},
     "output_type": "execute_result"
    }
   ],
   "source": [
    "pos"
   ]
  },
  {
   "cell_type": "code",
   "execution_count": 8,
   "metadata": {},
   "outputs": [],
   "source": [
    "from random import randint"
   ]
  },
  {
   "cell_type": "code",
   "execution_count": 12,
   "metadata": {},
   "outputs": [],
   "source": [
    "def buildStairStep(x, y, z, height, delay):\n",
    "    #place blocks\n",
    "    for b in range(height-1):\n",
    "        sleep(delay)\n",
    "        mc.setBlock(\n",
    "            x+height,\n",
    "            y+b,\n",
    "            z,\n",
    "            block.STONE)\n",
    "    #place stair\n",
    "    sleep(delay)\n",
    "    mc.setBlock(\n",
    "        x+height,\n",
    "        y+height-1,\n",
    "        z,\n",
    "        blockc)\n",
    "    \n",
    "def buildStairs(size, width=1, delay=0):\n",
    "    pos = mc.player.getTilePos()\n",
    "    for h in range(size):\n",
    "        for w in range(width):\n",
    "            buildStairStep(pos.x, pos.y, pos.z+w, h+1, delay)\n",
    "        \n",
    "buildStairs(\n",
    "    size=5,\n",
    "    width=2,\n",
    "    delay=0.1)"
   ]
  },
  {
   "cell_type": "code",
   "execution_count": 32,
   "metadata": {},
   "outputs": [],
   "source": [
    "pos = mc.player.getTilePos()\n",
    "buildStairStep(pos.x, pos.y, pos.z, 1)\n",
    "buildStairStep(pos.x, pos.y, pos.z, 2)\n",
    "buildStairStep(pos.x, pos.y, pos.z, 3)\n"
   ]
  },
  {
   "cell_type": "code",
   "execution_count": 47,
   "metadata": {},
   "outputs": [],
   "source": [
    "buildStairs(3, 1)"
   ]
  },
  {
   "cell_type": "code",
   "execution_count": null,
   "metadata": {},
   "outputs": [],
   "source": [
    "#modify build stairs to take width as a parameter"
   ]
  },
  {
   "cell_type": "code",
   "execution_count": null,
   "metadata": {},
   "outputs": [],
   "source": []
  }
 ],
 "metadata": {
  "kernelspec": {
   "display_name": "Python 3",
   "language": "python",
   "name": "python3"
  },
  "language_info": {
   "codemirror_mode": {
    "name": "ipython",
    "version": 3
   },
   "file_extension": ".py",
   "mimetype": "text/x-python",
   "name": "python",
   "nbconvert_exporter": "python",
   "pygments_lexer": "ipython3",
   "version": "3.7.3"
  }
 },
 "nbformat": 4,
 "nbformat_minor": 4
}
