{
 "cells": [
  {
   "cell_type": "markdown",
   "metadata": {},
   "source": [
    "## OLED Experiments"
   ]
  },
  {
   "cell_type": "code",
   "execution_count": 24,
   "metadata": {},
   "outputs": [],
   "source": [
    "from luma.core.interface.serial import i2c\n",
    "from luma.core.render import canvas\n",
    "from luma.oled.device import ssd1306, ssd1325, ssd1331, sh1106\n",
    "import time\n",
    "import math\n",
    "\n",
    "\n",
    "serial = i2c(port=1, address=0x3C)\n",
    "device = ssd1306(serial, rotate=0)"
   ]
  },
  {
   "cell_type": "code",
   "execution_count": 4,
   "metadata": {},
   "outputs": [],
   "source": [
    "i = 0\n",
    "\n",
    "for i in range(100):\n",
    "    with canvas(device) as draw:\n",
    "        draw.rectangle(device.bounding_box, outline=\"white\", fill=\"black\")\n",
    "        draw.text((i*1,40), \"Hi there!\", fill=\"white\")\n",
    "        #time.sleep(1)"
   ]
  },
  {
   "cell_type": "code",
   "execution_count": 33,
   "metadata": {},
   "outputs": [],
   "source": [
    "with canvas(device) as draw:\n",
    "    draw.rectangle(device.bounding_box, outline=\"black\", fill=\"black\")\n",
    "    draw.text((10,0), \"Hola!\", fill='white')"
   ]
  },
  {
   "cell_type": "code",
   "execution_count": 21,
   "metadata": {},
   "outputs": [],
   "source": [
    "with canvas(device) as draw:\n",
    "    draw.line((0,0, 50,50), fill=\"white\")\n",
    "    "
   ]
  },
  {
   "cell_type": "code",
   "execution_count": 71,
   "metadata": {},
   "outputs": [],
   "source": [
    "for deg in range(0,360,10):\n",
    "    theta = math.radians(deg)\n",
    "    with canvas(device) as draw:\n",
    "        draw.text((10,0), f'Degrees: {deg}', fill=\"white\")\n",
    "        draw.line((50,35) + ( 20*math.sin(theta)+50, 20*math.cos(theta)+25), fill=\"white\")\n",
    "        \n",
    "    "
   ]
  },
  {
   "cell_type": "code",
   "execution_count": 81,
   "metadata": {},
   "outputs": [],
   "source": [
    "def x(t):\n",
    "    return 5*t**3 - 9*t**2 + 7\n",
    "\n",
    "def y(t):\n",
    "    return 7*t + 3\n",
    "\n",
    "steps=100\n",
    "\n",
    "with canvas(device) as draw:\n",
    "    for i in range(0,1000):\n",
    "        t = i / steps\n",
    "#         draw.text((10,0), f'{i} t={t}-{t+1/steps}', fill='white')\n",
    "        draw.line( ( x(t)+50, y(t)+25) + ( x(t+1/steps)+50, y(t+1/steps)+25), fill=\"white\")\n",
    "        "
   ]
  },
  {
   "cell_type": "code",
   "execution_count": 56,
   "metadata": {},
   "outputs": [
    {
     "name": "stdout",
     "output_type": "stream",
     "text": [
      "0\n",
      "2\n",
      "4\n",
      "6\n",
      "8\n"
     ]
    },
    {
     "data": {
      "text/plain": [
       "[None, None, None, None, None]"
      ]
     },
     "execution_count": 56,
     "metadata": {},
     "output_type": "execute_result"
    }
   ],
   "source": [
    "[print(x) for x in range(0,10, 2)]"
   ]
  },
  {
   "cell_type": "code",
   "execution_count": 59,
   "metadata": {},
   "outputs": [
    {
     "data": {
      "text/plain": [
       "64"
      ]
     },
     "execution_count": 59,
     "metadata": {},
     "output_type": "execute_result"
    }
   ],
   "source": [
    "8**2"
   ]
  },
  {
   "cell_type": "code",
   "execution_count": null,
   "metadata": {},
   "outputs": [],
   "source": []
  }
 ],
 "metadata": {
  "kernelspec": {
   "display_name": "Python 3",
   "language": "python",
   "name": "python3"
  },
  "language_info": {
   "codemirror_mode": {
    "name": "ipython",
    "version": 3
   },
   "file_extension": ".py",
   "mimetype": "text/x-python",
   "name": "python",
   "nbconvert_exporter": "python",
   "pygments_lexer": "ipython3",
   "version": "3.7.3"
  }
 },
 "nbformat": 4,
 "nbformat_minor": 4
}
