{
 "cells": [
  {
   "cell_type": "code",
   "execution_count": 1,
   "metadata": {},
   "outputs": [],
   "source": [
    "import mcpi.minecraft as minecraft\n",
    "import mcpi.block as block"
   ]
  },
  {
   "cell_type": "code",
   "execution_count": 2,
   "metadata": {},
   "outputs": [],
   "source": [
    "mc = minecraft.Minecraft.create()"
   ]
  },
  {
   "cell_type": "code",
   "execution_count": 9,
   "metadata": {},
   "outputs": [],
   "source": [
    "# get player position\n",
    "pPos = mc.player.getTilePos()\n",
    "\n",
    "mc.postToChat(\"API Test!\")"
   ]
  },
  {
   "cell_type": "code",
   "execution_count": 10,
   "metadata": {},
   "outputs": [
    {
     "name": "stdout",
     "output_type": "stream",
     "text": [
      "Create stone 3x3 cube\n",
      "Position player on top\n"
     ]
    }
   ],
   "source": [
    "# change block\n",
    "print(\"Create stone 3x3 cube\")\n",
    "mc.setBlocks(pPos.x-1, pPos.y, pPos.z-1, pPos.x+1, pPos.y+2, pPos.z+1, block.STONE)\n",
    "\n",
    "print(\"Position player on top\")\n",
    "mc.player.setPos(pPos.x, pPos.y+3, pPos.z)\n",
    "\n",
    "mc.postToChat(\"Move and have another go\")"
   ]
  },
  {
   "cell_type": "code",
   "execution_count": 11,
   "metadata": {},
   "outputs": [],
   "source": [
    "mc.setBlocks(pPos.x-10, pPos.y, pPos.z-10, pPos.x+10, pPos.y+20, pPos.z+10, block.STONE)"
   ]
  },
  {
   "cell_type": "code",
   "execution_count": 14,
   "metadata": {},
   "outputs": [],
   "source": [
    "mc.player.setPos(pPos.x, pPos.y+30, pPos.z)"
   ]
  },
  {
   "cell_type": "code",
   "execution_count": 15,
   "metadata": {},
   "outputs": [],
   "source": [
    "\n",
    "mc.postToChat(\"You can't escape!\")"
   ]
  },
  {
   "cell_type": "code",
   "execution_count": null,
   "metadata": {},
   "outputs": [],
   "source": []
  }
 ],
 "metadata": {
  "kernelspec": {
   "display_name": "Python 3",
   "language": "python",
   "name": "python3"
  },
  "language_info": {
   "codemirror_mode": {
    "name": "ipython",
    "version": 3
   },
   "file_extension": ".py",
   "mimetype": "text/x-python",
   "name": "python",
   "nbconvert_exporter": "python",
   "pygments_lexer": "ipython3",
   "version": "3.7.3"
  }
 },
 "nbformat": 4,
 "nbformat_minor": 4
}
